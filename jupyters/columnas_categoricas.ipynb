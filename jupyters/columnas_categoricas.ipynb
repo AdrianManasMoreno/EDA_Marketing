{
 "cells": [
  {
   "cell_type": "markdown",
   "metadata": {},
   "source": [
    "# Analisis y gestion de nulos de las columnas categoricas (3)"
   ]
  },
  {
   "cell_type": "code",
   "execution_count": 2,
   "metadata": {},
   "outputs": [],
   "source": [
    "#Importaciones de paquetes\n",
    "import pandas as pd\n",
    "import numpy as np\n",
    "import sys\n",
    "sys.path.append('..')\n",
    "#Paquetes de visualizacion\n",
    "import matplotlib.pyplot as plt\n",
    "import seaborn as sns\n",
    "#Importaciones de soporte\n",
    "from src import sp_eda as sp\n",
    "from src import sp_visualizacion as spv"
   ]
  },
  {
   "cell_type": "code",
   "execution_count": 3,
   "metadata": {},
   "outputs": [
    {
     "name": "stdout",
     "output_type": "stream",
     "text": [
      "<class 'pandas.core.frame.DataFrame'>\n",
      "RangeIndex: 209915 entries, 0 to 209914\n",
      "Data columns (total 22 columns):\n",
      " #   Column            Non-Null Count   Dtype  \n",
      "---  ------            --------------   -----  \n",
      " 0   campaign_id       209915 non-null  int64  \n",
      " 1   company           194734 non-null  object \n",
      " 2   campaign_type     191535 non-null  object \n",
      " 3   target_audience   181301 non-null  object \n",
      " 4   duration          191309 non-null  float64\n",
      " 5   channel_used      187421 non-null  object \n",
      " 6   conversion_rate   200471 non-null  float64\n",
      " 7   roi               173439 non-null  float64\n",
      " 8   location          184543 non-null  object \n",
      " 9   language          182907 non-null  object \n",
      " 10  clicks            178736 non-null  float64\n",
      " 11  impressions       188467 non-null  float64\n",
      " 12  engagement_score  186051 non-null  float64\n",
      " 13  customer_segment  196763 non-null  object \n",
      " 14  date              203007 non-null  object \n",
      " 15  total($)          201832 non-null  float64\n",
      " 16  genre             181301 non-null  object \n",
      " 17  ages              181301 non-null  object \n",
      " 18  year              203007 non-null  float64\n",
      " 19  month             203007 non-null  float64\n",
      " 20  day_name          203007 non-null  object \n",
      " 21  quarter           203007 non-null  float64\n",
      "dtypes: float64(10), int64(1), object(11)\n",
      "memory usage: 35.2+ MB\n"
     ]
    }
   ],
   "source": [
    "# Leer el archivo de data_limpios.csv\n",
    "df_limpio = pd.read_csv('../data/data_limpios.csv')\n",
    "df_limpio.info()"
   ]
  },
  {
   "cell_type": "markdown",
   "metadata": {},
   "source": [
    "# Empezamos a trabajar: Observacion general de nulos"
   ]
  },
  {
   "cell_type": "code",
   "execution_count": 4,
   "metadata": {},
   "outputs": [],
   "source": [
    "numero_nulos_df_limpio, porcentaje_nulos_df_limpio = sp.calcular_nulos(df_limpio)  # Verificar si hay nulos"
   ]
  },
  {
   "cell_type": "code",
   "execution_count": 5,
   "metadata": {},
   "outputs": [
    {
     "data": {
      "text/plain": [
       "campaign_id          0.00\n",
       "company              7.23\n",
       "campaign_type        8.76\n",
       "target_audience     13.63\n",
       "duration             8.86\n",
       "channel_used        10.72\n",
       "conversion_rate      4.50\n",
       "roi                 17.38\n",
       "location            12.09\n",
       "language            12.87\n",
       "clicks              14.85\n",
       "impressions         10.22\n",
       "engagement_score    11.37\n",
       "customer_segment     6.27\n",
       "date                 3.29\n",
       "total($)             3.85\n",
       "genre               13.63\n",
       "ages                13.63\n",
       "year                 3.29\n",
       "month                3.29\n",
       "day_name             3.29\n",
       "quarter              3.29\n",
       "dtype: float64"
      ]
     },
     "execution_count": 5,
     "metadata": {},
     "output_type": "execute_result"
    }
   ],
   "source": [
    "porcentaje_nulos_df_limpio"
   ]
  },
  {
   "cell_type": "markdown",
   "metadata": {},
   "source": [
    "## Analisis y gestion de nulos de las categoricas"
   ]
  },
  {
   "cell_type": "code",
   "execution_count": 6,
   "metadata": {},
   "outputs": [
    {
     "data": {
      "text/plain": [
       "Index(['company', 'campaign_type', 'target_audience', 'channel_used',\n",
       "       'location', 'language', 'customer_segment', 'date', 'genre', 'ages',\n",
       "       'day_name'],\n",
       "      dtype='object')"
      ]
     },
     "execution_count": 6,
     "metadata": {},
     "output_type": "execute_result"
    }
   ],
   "source": [
    "#visualizacion de las columnas categoricas\n",
    "col_catg = df_limpio.select_dtypes(include=['O']).columns\n",
    "col_catg"
   ]
  },
  {
   "cell_type": "code",
   "execution_count": 7,
   "metadata": {},
   "outputs": [
    {
     "name": "stdout",
     "output_type": "stream",
     "text": [
      "La distribucion de la columna COMPANY\n",
      "Esta columna tiene 6 valores únicos\n"
     ]
    },
    {
     "data": {
      "text/plain": [
       "company\n",
       "techcorp               0.201352\n",
       "alpha_innovations      0.200735\n",
       "datatech_solutions     0.199703\n",
       "nexgen_systems         0.199652\n",
       "innovate_industries    0.198558\n",
       "Name: proportion, dtype: float64"
      ]
     },
     "metadata": {},
     "output_type": "display_data"
    },
    {
     "name": "stdout",
     "output_type": "stream",
     "text": [
      "____________\n",
      " Describe\n"
     ]
    },
    {
     "data": {
      "text/plain": [
       "count       194734\n",
       "unique           5\n",
       "top       techcorp\n",
       "freq         39210\n",
       "Name: company, dtype: object"
      ]
     },
     "metadata": {},
     "output_type": "display_data"
    },
    {
     "name": "stdout",
     "output_type": "stream",
     "text": [
      "---------------------------------\n",
      "La distribucion de la columna CAMPAIGN_TYPE\n",
      "Esta columna tiene 6 valores únicos\n"
     ]
    },
    {
     "data": {
      "text/plain": [
       "campaign_type\n",
       "influencer      0.200642\n",
       "search          0.200063\n",
       "email           0.199922\n",
       "social_media    0.199859\n",
       "display         0.199514\n",
       "Name: proportion, dtype: float64"
      ]
     },
     "metadata": {},
     "output_type": "display_data"
    },
    {
     "name": "stdout",
     "output_type": "stream",
     "text": [
      "____________\n",
      " Describe\n"
     ]
    },
    {
     "data": {
      "text/plain": [
       "count         191535\n",
       "unique             5\n",
       "top       influencer\n",
       "freq           38430\n",
       "Name: campaign_type, dtype: object"
      ]
     },
     "metadata": {},
     "output_type": "display_data"
    },
    {
     "name": "stdout",
     "output_type": "stream",
     "text": [
      "---------------------------------\n",
      "La distribucion de la columna TARGET_AUDIENCE\n",
      "Esta columna tiene 6 valores únicos\n"
     ]
    },
    {
     "data": {
      "text/plain": [
       "target_audience\n",
       "men_18-24      0.202056\n",
       "women_25-34    0.200490\n",
       "all_ages       0.199905\n",
       "men_25-34      0.199502\n",
       "women_35-44    0.198046\n",
       "Name: proportion, dtype: float64"
      ]
     },
     "metadata": {},
     "output_type": "display_data"
    },
    {
     "name": "stdout",
     "output_type": "stream",
     "text": [
      "____________\n",
      " Describe\n"
     ]
    },
    {
     "data": {
      "text/plain": [
       "count        181301\n",
       "unique            5\n",
       "top       men_18-24\n",
       "freq          36633\n",
       "Name: target_audience, dtype: object"
      ]
     },
     "metadata": {},
     "output_type": "display_data"
    },
    {
     "name": "stdout",
     "output_type": "stream",
     "text": [
      "---------------------------------\n",
      "La distribucion de la columna CHANNEL_USED\n",
      "Esta columna tiene 7 valores únicos\n"
     ]
    },
    {
     "data": {
      "text/plain": [
       "channel_used\n",
       "email         0.167863\n",
       "instagram     0.167687\n",
       "google_ads    0.166998\n",
       "youtube       0.166988\n",
       "website       0.166198\n",
       "facebook      0.164267\n",
       "Name: proportion, dtype: float64"
      ]
     },
     "metadata": {},
     "output_type": "display_data"
    },
    {
     "name": "stdout",
     "output_type": "stream",
     "text": [
      "____________\n",
      " Describe\n"
     ]
    },
    {
     "data": {
      "text/plain": [
       "count     187421\n",
       "unique         6\n",
       "top        email\n",
       "freq       31461\n",
       "Name: channel_used, dtype: object"
      ]
     },
     "metadata": {},
     "output_type": "display_data"
    },
    {
     "name": "stdout",
     "output_type": "stream",
     "text": [
      "---------------------------------\n",
      "La distribucion de la columna LOCATION\n",
      "Esta columna tiene 6 valores únicos\n"
     ]
    },
    {
     "data": {
      "text/plain": [
       "location\n",
       "miami          0.201796\n",
       "chicago        0.200344\n",
       "los_angeles    0.199937\n",
       "new_york       0.199298\n",
       "houston        0.198626\n",
       "Name: proportion, dtype: float64"
      ]
     },
     "metadata": {},
     "output_type": "display_data"
    },
    {
     "name": "stdout",
     "output_type": "stream",
     "text": [
      "____________\n",
      " Describe\n"
     ]
    },
    {
     "data": {
      "text/plain": [
       "count     184543\n",
       "unique         5\n",
       "top        miami\n",
       "freq       37240\n",
       "Name: location, dtype: object"
      ]
     },
     "metadata": {},
     "output_type": "display_data"
    },
    {
     "name": "stdout",
     "output_type": "stream",
     "text": [
      "---------------------------------\n",
      "La distribucion de la columna LANGUAGE\n",
      "Esta columna tiene 6 valores únicos\n"
     ]
    },
    {
     "data": {
      "text/plain": [
       "language\n",
       "mandarin    0.201419\n",
       "spanish     0.200905\n",
       "german      0.199943\n",
       "english     0.199139\n",
       "french      0.198593\n",
       "Name: proportion, dtype: float64"
      ]
     },
     "metadata": {},
     "output_type": "display_data"
    },
    {
     "name": "stdout",
     "output_type": "stream",
     "text": [
      "____________\n",
      " Describe\n"
     ]
    },
    {
     "data": {
      "text/plain": [
       "count       182907\n",
       "unique           5\n",
       "top       mandarin\n",
       "freq         36841\n",
       "Name: language, dtype: object"
      ]
     },
     "metadata": {},
     "output_type": "display_data"
    },
    {
     "name": "stdout",
     "output_type": "stream",
     "text": [
      "---------------------------------\n",
      "La distribucion de la columna CUSTOMER_SEGMENT\n",
      "Esta columna tiene 6 valores únicos\n"
     ]
    },
    {
     "data": {
      "text/plain": [
       "customer_segment\n",
       "foodies                0.201110\n",
       "tech_enthusiasts       0.200841\n",
       "outdoor_adventurers    0.199855\n",
       "health_&_wellness      0.199285\n",
       "fashionistas           0.198909\n",
       "Name: proportion, dtype: float64"
      ]
     },
     "metadata": {},
     "output_type": "display_data"
    },
    {
     "name": "stdout",
     "output_type": "stream",
     "text": [
      "____________\n",
      " Describe\n"
     ]
    },
    {
     "data": {
      "text/plain": [
       "count      196763\n",
       "unique          5\n",
       "top       foodies\n",
       "freq        39571\n",
       "Name: customer_segment, dtype: object"
      ]
     },
     "metadata": {},
     "output_type": "display_data"
    },
    {
     "name": "stdout",
     "output_type": "stream",
     "text": [
      "---------------------------------\n",
      "La distribucion de la columna DATE\n",
      "Esta columna tiene 366 valores únicos\n"
     ]
    },
    {
     "data": {
      "text/plain": [
       "date\n",
       "2021-09-10    0.002852\n",
       "2021-09-03    0.002832\n",
       "2021-08-18    0.002818\n",
       "2021-04-16    0.002813\n",
       "2021-05-07    0.002813\n",
       "                ...   \n",
       "2021-03-21    0.002670\n",
       "2021-01-07    0.002670\n",
       "2021-01-05    0.002670\n",
       "2021-05-01    0.002665\n",
       "2021-05-31    0.002655\n",
       "Name: proportion, Length: 365, dtype: float64"
      ]
     },
     "metadata": {},
     "output_type": "display_data"
    },
    {
     "name": "stdout",
     "output_type": "stream",
     "text": [
      "____________\n",
      " Describe\n"
     ]
    },
    {
     "data": {
      "text/plain": [
       "count         203007\n",
       "unique           365\n",
       "top       2021-09-10\n",
       "freq             579\n",
       "Name: date, dtype: object"
      ]
     },
     "metadata": {},
     "output_type": "display_data"
    },
    {
     "name": "stdout",
     "output_type": "stream",
     "text": [
      "---------------------------------\n",
      "La distribucion de la columna GENRE\n",
      "Esta columna tiene 4 valores únicos\n"
     ]
    },
    {
     "data": {
      "text/plain": [
       "genre\n",
       "men      0.401559\n",
       "women    0.398536\n",
       "all      0.199905\n",
       "Name: proportion, dtype: float64"
      ]
     },
     "metadata": {},
     "output_type": "display_data"
    },
    {
     "name": "stdout",
     "output_type": "stream",
     "text": [
      "____________\n",
      " Describe\n"
     ]
    },
    {
     "data": {
      "text/plain": [
       "count     181301\n",
       "unique         3\n",
       "top          men\n",
       "freq       72803\n",
       "Name: genre, dtype: object"
      ]
     },
     "metadata": {},
     "output_type": "display_data"
    },
    {
     "name": "stdout",
     "output_type": "stream",
     "text": [
      "---------------------------------\n",
      "La distribucion de la columna AGES\n",
      "Esta columna tiene 5 valores únicos\n"
     ]
    },
    {
     "data": {
      "text/plain": [
       "ages\n",
       "25-34    0.399992\n",
       "18-24    0.202056\n",
       "ages     0.199905\n",
       "35-44    0.198046\n",
       "Name: proportion, dtype: float64"
      ]
     },
     "metadata": {},
     "output_type": "display_data"
    },
    {
     "name": "stdout",
     "output_type": "stream",
     "text": [
      "____________\n",
      " Describe\n"
     ]
    },
    {
     "data": {
      "text/plain": [
       "count     181301\n",
       "unique         4\n",
       "top        25-34\n",
       "freq       72519\n",
       "Name: ages, dtype: object"
      ]
     },
     "metadata": {},
     "output_type": "display_data"
    },
    {
     "name": "stdout",
     "output_type": "stream",
     "text": [
      "---------------------------------\n",
      "La distribucion de la columna DAY_NAME\n",
      "Esta columna tiene 8 valores únicos\n"
     ]
    },
    {
     "data": {
      "text/plain": [
       "day_name\n",
       "friday       0.145557\n",
       "wednesday    0.142764\n",
       "saturday     0.142616\n",
       "thursday     0.142369\n",
       "tuesday      0.142256\n",
       "monday       0.142241\n",
       "sunday       0.142197\n",
       "Name: proportion, dtype: float64"
      ]
     },
     "metadata": {},
     "output_type": "display_data"
    },
    {
     "name": "stdout",
     "output_type": "stream",
     "text": [
      "____________\n",
      " Describe\n"
     ]
    },
    {
     "data": {
      "text/plain": [
       "count     203007\n",
       "unique         7\n",
       "top       friday\n",
       "freq       29549\n",
       "Name: day_name, dtype: object"
      ]
     },
     "metadata": {},
     "output_type": "display_data"
    },
    {
     "name": "stdout",
     "output_type": "stream",
     "text": [
      "---------------------------------\n"
     ]
    }
   ],
   "source": [
    "#Analisis de todas columnas categoricas\n",
    "sp.analisis_general_categoricas(df_limpio)"
   ]
  },
  {
   "cell_type": "code",
   "execution_count": 8,
   "metadata": {},
   "outputs": [
    {
     "data": {
      "image/png": "[encoded data removed]",
      "text/plain": [
       "<Figure size 1500x2000 with 11 Axes>"
      ]
     },
     "metadata": {},
     "output_type": "display_data"
    }
   ],
   "source": [
    "#Visualizacion de los subplots de las columnas categoricas\n",
    "spv.subplot_col_cat(df_limpio)"
   ]
  },
  {
   "cell_type": "markdown",
   "metadata": {},
   "source": [
    "## Gestion de nulos de categoricas:"
   ]
  },
  {
   "cell_type": "code",
   "execution_count": 9,
   "metadata": {},
   "outputs": [
    {
     "data": {
      "text/html": [
       "<div>\n",
       "<style scoped>\n",
       "    .dataframe tbody tr th:only-of-type {\n",
       "        vertical-align: middle;\n",
       "    }\n",
       "\n",
       "    .dataframe tbody tr th {\n",
       "        vertical-align: top;\n",
       "    }\n",
       "\n",
       "    .dataframe thead th {\n",
       "        text-align: right;\n",
       "    }\n",
       "</style>\n",
       "<table border=\"1\" class=\"dataframe\">\n",
       "  <thead>\n",
       "    <tr style=\"text-align: right;\">\n",
       "      <th></th>\n",
       "      <th>company</th>\n",
       "      <th>campaign_type</th>\n",
       "      <th>target_audience</th>\n",
       "      <th>channel_used</th>\n",
       "      <th>location</th>\n",
       "      <th>language</th>\n",
       "      <th>customer_segment</th>\n",
       "      <th>date</th>\n",
       "      <th>genre</th>\n",
       "      <th>ages</th>\n",
       "      <th>day_name</th>\n",
       "    </tr>\n",
       "  </thead>\n",
       "  <tbody>\n",
       "    <tr>\n",
       "      <th>0</th>\n",
       "      <td>innovate_industries</td>\n",
       "      <td>NaN</td>\n",
       "      <td>men_18-24</td>\n",
       "      <td>google_ads</td>\n",
       "      <td>chicago</td>\n",
       "      <td>spanish</td>\n",
       "      <td>health_&amp;_wellness</td>\n",
       "      <td>2021-01-01</td>\n",
       "      <td>men</td>\n",
       "      <td>18-24</td>\n",
       "      <td>friday</td>\n",
       "    </tr>\n",
       "    <tr>\n",
       "      <th>1</th>\n",
       "      <td>nexgen_systems</td>\n",
       "      <td>email</td>\n",
       "      <td>women_35-44</td>\n",
       "      <td>google_ads</td>\n",
       "      <td>new_york</td>\n",
       "      <td>german</td>\n",
       "      <td>fashionistas</td>\n",
       "      <td>2021-01-02</td>\n",
       "      <td>women</td>\n",
       "      <td>35-44</td>\n",
       "      <td>saturday</td>\n",
       "    </tr>\n",
       "    <tr>\n",
       "      <th>2</th>\n",
       "      <td>alpha_innovations</td>\n",
       "      <td>influencer</td>\n",
       "      <td>men_25-34</td>\n",
       "      <td>youtube</td>\n",
       "      <td>los_angeles</td>\n",
       "      <td>french</td>\n",
       "      <td>outdoor_adventurers</td>\n",
       "      <td>2021-01-03</td>\n",
       "      <td>men</td>\n",
       "      <td>25-34</td>\n",
       "      <td>sunday</td>\n",
       "    </tr>\n",
       "    <tr>\n",
       "      <th>3</th>\n",
       "      <td>NaN</td>\n",
       "      <td>display</td>\n",
       "      <td>all_ages</td>\n",
       "      <td>youtube</td>\n",
       "      <td>miami</td>\n",
       "      <td>mandarin</td>\n",
       "      <td>health_&amp;_wellness</td>\n",
       "      <td>2021-01-04</td>\n",
       "      <td>all</td>\n",
       "      <td>ages</td>\n",
       "      <td>monday</td>\n",
       "    </tr>\n",
       "    <tr>\n",
       "      <th>4</th>\n",
       "      <td>nexgen_systems</td>\n",
       "      <td>email</td>\n",
       "      <td>men_25-34</td>\n",
       "      <td>youtube</td>\n",
       "      <td>los_angeles</td>\n",
       "      <td>NaN</td>\n",
       "      <td>health_&amp;_wellness</td>\n",
       "      <td>2021-01-05</td>\n",
       "      <td>men</td>\n",
       "      <td>25-34</td>\n",
       "      <td>tuesday</td>\n",
       "    </tr>\n",
       "  </tbody>\n",
       "</table>\n",
       "</div>"
      ],
      "text/plain": [
       "               company campaign_type target_audience channel_used  \\\n",
       "0  innovate_industries           NaN       men_18-24   google_ads   \n",
       "1       nexgen_systems         email     women_35-44   google_ads   \n",
       "2    alpha_innovations    influencer       men_25-34      youtube   \n",
       "3                  NaN       display        all_ages      youtube   \n",
       "4       nexgen_systems         email       men_25-34      youtube   \n",
       "\n",
       "      location  language     customer_segment        date  genre   ages  \\\n",
       "0      chicago   spanish    health_&_wellness  2021-01-01    men  18-24   \n",
       "1     new_york    german         fashionistas  2021-01-02  women  35-44   \n",
       "2  los_angeles    french  outdoor_adventurers  2021-01-03    men  25-34   \n",
       "3        miami  mandarin    health_&_wellness  2021-01-04    all   ages   \n",
       "4  los_angeles       NaN    health_&_wellness  2021-01-05    men  25-34   \n",
       "\n",
       "   day_name  \n",
       "0    friday  \n",
       "1  saturday  \n",
       "2    sunday  \n",
       "3    monday  \n",
       "4   tuesday  "
      ]
     },
     "execution_count": 9,
     "metadata": {},
     "output_type": "execute_result"
    }
   ],
   "source": [
    "df_cat = df_limpio[df_limpio.select_dtypes(include=\"O\").columns] # Seleccionar solo las columnas categoricas\n",
    "df_cat.head()"
   ]
  },
  {
   "cell_type": "code",
   "execution_count": 10,
   "metadata": {},
   "outputs": [
    {
     "data": {
      "text/plain": [
       "company              7.23\n",
       "campaign_type        8.76\n",
       "target_audience     13.63\n",
       "channel_used        10.72\n",
       "location            12.09\n",
       "language            12.87\n",
       "customer_segment     6.27\n",
       "date                 3.29\n",
       "genre               13.63\n",
       "ages                13.63\n",
       "day_name             3.29\n",
       "dtype: float64"
      ]
     },
     "execution_count": 10,
     "metadata": {},
     "output_type": "execute_result"
    }
   ],
   "source": [
    "sp.calcular_nulos(df_cat)[1] # Verificar si hay nulos"
   ]
  },
  {
   "cell_type": "markdown",
   "metadata": {},
   "source": [
    "Vemos que no tenemos ninguna columna con una cantidad de nulos por encima del 50%, vamos a gestionar los nulos rellenando esos valores"
   ]
  },
  {
   "cell_type": "code",
   "execution_count": 11,
   "metadata": {},
   "outputs": [
    {
     "name": "stdout",
     "output_type": "stream",
     "text": [
      "La distribucion de la columna COMPANY\n",
      "Esta columna tiene 6 valores únicos\n"
     ]
    },
    {
     "data": {
      "text/plain": [
       "company\n",
       "techcorp               0.201352\n",
       "alpha_innovations      0.200735\n",
       "datatech_solutions     0.199703\n",
       "nexgen_systems         0.199652\n",
       "innovate_industries    0.198558\n",
       "Name: proportion, dtype: float64"
      ]
     },
     "metadata": {},
     "output_type": "display_data"
    },
    {
     "name": "stdout",
     "output_type": "stream",
     "text": [
      "____________\n",
      " Describe\n"
     ]
    },
    {
     "data": {
      "text/plain": [
       "count       194734\n",
       "unique           5\n",
       "top       techcorp\n",
       "freq         39210\n",
       "Name: company, dtype: object"
      ]
     },
     "metadata": {},
     "output_type": "display_data"
    },
    {
     "name": "stdout",
     "output_type": "stream",
     "text": [
      "---------------------------------\n",
      "La distribucion de la columna CAMPAIGN_TYPE\n",
      "Esta columna tiene 6 valores únicos\n"
     ]
    },
    {
     "data": {
      "text/plain": [
       "campaign_type\n",
       "influencer      0.200642\n",
       "search          0.200063\n",
       "email           0.199922\n",
       "social_media    0.199859\n",
       "display         0.199514\n",
       "Name: proportion, dtype: float64"
      ]
     },
     "metadata": {},
     "output_type": "display_data"
    },
    {
     "name": "stdout",
     "output_type": "stream",
     "text": [
      "____________\n",
      " Describe\n"
     ]
    },
    {
     "data": {
      "text/plain": [
       "count         191535\n",
       "unique             5\n",
       "top       influencer\n",
       "freq           38430\n",
       "Name: campaign_type, dtype: object"
      ]
     },
     "metadata": {},
     "output_type": "display_data"
    },
    {
     "name": "stdout",
     "output_type": "stream",
     "text": [
      "---------------------------------\n",
      "La distribucion de la columna TARGET_AUDIENCE\n",
      "Esta columna tiene 6 valores únicos\n"
     ]
    },
    {
     "data": {
      "text/plain": [
       "target_audience\n",
       "men_18-24      0.202056\n",
       "women_25-34    0.200490\n",
       "all_ages       0.199905\n",
       "men_25-34      0.199502\n",
       "women_35-44    0.198046\n",
       "Name: proportion, dtype: float64"
      ]
     },
     "metadata": {},
     "output_type": "display_data"
    },
    {
     "name": "stdout",
     "output_type": "stream",
     "text": [
      "____________\n",
      " Describe\n"
     ]
    },
    {
     "data": {
      "text/plain": [
       "count        181301\n",
       "unique            5\n",
       "top       men_18-24\n",
       "freq          36633\n",
       "Name: target_audience, dtype: object"
      ]
     },
     "metadata": {},
     "output_type": "display_data"
    },
    {
     "name": "stdout",
     "output_type": "stream",
     "text": [
      "---------------------------------\n",
      "La distribucion de la columna CHANNEL_USED\n",
      "Esta columna tiene 7 valores únicos\n"
     ]
    },
    {
     "data": {
      "text/plain": [
       "channel_used\n",
       "email         0.167863\n",
       "instagram     0.167687\n",
       "google_ads    0.166998\n",
       "youtube       0.166988\n",
       "website       0.166198\n",
       "facebook      0.164267\n",
       "Name: proportion, dtype: float64"
      ]
     },
     "metadata": {},
     "output_type": "display_data"
    },
    {
     "name": "stdout",
     "output_type": "stream",
     "text": [
      "____________\n",
      " Describe\n"
     ]
    },
    {
     "data": {
      "text/plain": [
       "count     187421\n",
       "unique         6\n",
       "top        email\n",
       "freq       31461\n",
       "Name: channel_used, dtype: object"
      ]
     },
     "metadata": {},
     "output_type": "display_data"
    },
    {
     "name": "stdout",
     "output_type": "stream",
     "text": [
      "---------------------------------\n",
      "La distribucion de la columna LOCATION\n",
      "Esta columna tiene 6 valores únicos\n"
     ]
    },
    {
     "data": {
      "text/plain": [
       "location\n",
       "miami          0.201796\n",
       "chicago        0.200344\n",
       "los_angeles    0.199937\n",
       "new_york       0.199298\n",
       "houston        0.198626\n",
       "Name: proportion, dtype: float64"
      ]
     },
     "metadata": {},
     "output_type": "display_data"
    },
    {
     "name": "stdout",
     "output_type": "stream",
     "text": [
      "____________\n",
      " Describe\n"
     ]
    },
    {
     "data": {
      "text/plain": [
       "count     184543\n",
       "unique         5\n",
       "top        miami\n",
       "freq       37240\n",
       "Name: location, dtype: object"
      ]
     },
     "metadata": {},
     "output_type": "display_data"
    },
    {
     "name": "stdout",
     "output_type": "stream",
     "text": [
      "---------------------------------\n",
      "La distribucion de la columna LANGUAGE\n",
      "Esta columna tiene 6 valores únicos\n"
     ]
    },
    {
     "data": {
      "text/plain": [
       "language\n",
       "mandarin    0.201419\n",
       "spanish     0.200905\n",
       "german      0.199943\n",
       "english     0.199139\n",
       "french      0.198593\n",
       "Name: proportion, dtype: float64"
      ]
     },
     "metadata": {},
     "output_type": "display_data"
    },
    {
     "name": "stdout",
     "output_type": "stream",
     "text": [
      "____________\n",
      " Describe\n"
     ]
    },
    {
     "data": {
      "text/plain": [
       "count       182907\n",
       "unique           5\n",
       "top       mandarin\n",
       "freq         36841\n",
       "Name: language, dtype: object"
      ]
     },
     "metadata": {},
     "output_type": "display_data"
    },
    {
     "name": "stdout",
     "output_type": "stream",
     "text": [
      "---------------------------------\n",
      "La distribucion de la columna CUSTOMER_SEGMENT\n",
      "Esta columna tiene 6 valores únicos\n"
     ]
    },
    {
     "data": {
      "text/plain": [
       "customer_segment\n",
       "foodies                0.201110\n",
       "tech_enthusiasts       0.200841\n",
       "outdoor_adventurers    0.199855\n",
       "health_&_wellness      0.199285\n",
       "fashionistas           0.198909\n",
       "Name: proportion, dtype: float64"
      ]
     },
     "metadata": {},
     "output_type": "display_data"
    },
    {
     "name": "stdout",
     "output_type": "stream",
     "text": [
      "____________\n",
      " Describe\n"
     ]
    },
    {
     "data": {
      "text/plain": [
       "count      196763\n",
       "unique          5\n",
       "top       foodies\n",
       "freq        39571\n",
       "Name: customer_segment, dtype: object"
      ]
     },
     "metadata": {},
     "output_type": "display_data"
    },
    {
     "name": "stdout",
     "output_type": "stream",
     "text": [
      "---------------------------------\n",
      "La distribucion de la columna DATE\n",
      "Esta columna tiene 366 valores únicos\n"
     ]
    },
    {
     "data": {
      "text/plain": [
       "date\n",
       "2021-09-10    0.002852\n",
       "2021-09-03    0.002832\n",
       "2021-08-18    0.002818\n",
       "2021-04-16    0.002813\n",
       "2021-05-07    0.002813\n",
       "                ...   \n",
       "2021-03-21    0.002670\n",
       "2021-01-07    0.002670\n",
       "2021-01-05    0.002670\n",
       "2021-05-01    0.002665\n",
       "2021-05-31    0.002655\n",
       "Name: proportion, Length: 365, dtype: float64"
      ]
     },
     "metadata": {},
     "output_type": "display_data"
    },
    {
     "name": "stdout",
     "output_type": "stream",
     "text": [
      "____________\n",
      " Describe\n"
     ]
    },
    {
     "data": {
      "text/plain": [
       "count         203007\n",
       "unique           365\n",
       "top       2021-09-10\n",
       "freq             579\n",
       "Name: date, dtype: object"
      ]
     },
     "metadata": {},
     "output_type": "display_data"
    },
    {
     "name": "stdout",
     "output_type": "stream",
     "text": [
      "---------------------------------\n",
      "La distribucion de la columna GENRE\n",
      "Esta columna tiene 4 valores únicos\n"
     ]
    },
    {
     "data": {
      "text/plain": [
       "genre\n",
       "men      0.401559\n",
       "women    0.398536\n",
       "all      0.199905\n",
       "Name: proportion, dtype: float64"
      ]
     },
     "metadata": {},
     "output_type": "display_data"
    },
    {
     "name": "stdout",
     "output_type": "stream",
     "text": [
      "____________\n",
      " Describe\n"
     ]
    },
    {
     "data": {
      "text/plain": [
       "count     181301\n",
       "unique         3\n",
       "top          men\n",
       "freq       72803\n",
       "Name: genre, dtype: object"
      ]
     },
     "metadata": {},
     "output_type": "display_data"
    },
    {
     "name": "stdout",
     "output_type": "stream",
     "text": [
      "---------------------------------\n",
      "La distribucion de la columna AGES\n",
      "Esta columna tiene 5 valores únicos\n"
     ]
    },
    {
     "data": {
      "text/plain": [
       "ages\n",
       "25-34    0.399992\n",
       "18-24    0.202056\n",
       "ages     0.199905\n",
       "35-44    0.198046\n",
       "Name: proportion, dtype: float64"
      ]
     },
     "metadata": {},
     "output_type": "display_data"
    },
    {
     "name": "stdout",
     "output_type": "stream",
     "text": [
      "____________\n",
      " Describe\n"
     ]
    },
    {
     "data": {
      "text/plain": [
       "count     181301\n",
       "unique         4\n",
       "top        25-34\n",
       "freq       72519\n",
       "Name: ages, dtype: object"
      ]
     },
     "metadata": {},
     "output_type": "display_data"
    },
    {
     "name": "stdout",
     "output_type": "stream",
     "text": [
      "---------------------------------\n",
      "La distribucion de la columna DAY_NAME\n",
      "Esta columna tiene 8 valores únicos\n"
     ]
    },
    {
     "data": {
      "text/plain": [
       "day_name\n",
       "friday       0.145557\n",
       "wednesday    0.142764\n",
       "saturday     0.142616\n",
       "thursday     0.142369\n",
       "tuesday      0.142256\n",
       "monday       0.142241\n",
       "sunday       0.142197\n",
       "Name: proportion, dtype: float64"
      ]
     },
     "metadata": {},
     "output_type": "display_data"
    },
    {
     "name": "stdout",
     "output_type": "stream",
     "text": [
      "____________\n",
      " Describe\n"
     ]
    },
    {
     "data": {
      "text/plain": [
       "count     203007\n",
       "unique         7\n",
       "top       friday\n",
       "freq       29549\n",
       "Name: day_name, dtype: object"
      ]
     },
     "metadata": {},
     "output_type": "display_data"
    },
    {
     "name": "stdout",
     "output_type": "stream",
     "text": [
      "---------------------------------\n"
     ]
    }
   ],
   "source": [
    "#Tenemos que elegir con que valores rellenamos los nulos\n",
    "sp.analisis_general_categoricas(df_cat)"
   ]
  },
  {
   "cell_type": "markdown",
   "metadata": {},
   "source": [
    "Dado que no hay ninguna columna en la que destaque ningun valor de la moda. Rellenamos con \"unknown\""
   ]
  },
  {
   "cell_type": "code",
   "execution_count": 12,
   "metadata": {},
   "outputs": [
    {
     "data": {
      "text/plain": [
       "company             0.0\n",
       "campaign_type       0.0\n",
       "target_audience     0.0\n",
       "channel_used        0.0\n",
       "location            0.0\n",
       "language            0.0\n",
       "customer_segment    0.0\n",
       "date                0.0\n",
       "genre               0.0\n",
       "ages                0.0\n",
       "day_name            0.0\n",
       "dtype: float64"
      ]
     },
     "execution_count": 12,
     "metadata": {},
     "output_type": "execute_result"
    }
   ],
   "source": [
    "df_cat = df_cat.fillna(\"unknown\") # Rellenar los nulos con \"unknown\"\n",
    "sp.calcular_nulos(df_cat)[1] # Verificar si hay nulos"
   ]
  },
  {
   "cell_type": "code",
   "execution_count": 13,
   "metadata": {},
   "outputs": [],
   "source": [
    "df_limpio[df_limpio.select_dtypes(include=\"O\").columns] = df_cat # Reemplazar las columnas categoricas en el df_limpio"
   ]
  },
  {
   "cell_type": "code",
   "execution_count": 14,
   "metadata": {},
   "outputs": [
    {
     "data": {
      "text/plain": [
       "campaign_id          0.00\n",
       "company              0.00\n",
       "campaign_type        0.00\n",
       "target_audience      0.00\n",
       "duration             8.86\n",
       "channel_used         0.00\n",
       "conversion_rate      4.50\n",
       "roi                 17.38\n",
       "location             0.00\n",
       "language             0.00\n",
       "clicks              14.85\n",
       "impressions         10.22\n",
       "engagement_score    11.37\n",
       "customer_segment     0.00\n",
       "date                 0.00\n",
       "total($)             3.85\n",
       "genre                0.00\n",
       "ages                 0.00\n",
       "year                 3.29\n",
       "month                3.29\n",
       "day_name             0.00\n",
       "quarter              3.29\n",
       "dtype: float64"
      ]
     },
     "execution_count": 14,
     "metadata": {},
     "output_type": "execute_result"
    }
   ],
   "source": [
    "sp.calcular_nulos(df_limpio)[1] # Verificar si hay nulos"
   ]
  },
  {
   "cell_type": "code",
   "execution_count": 15,
   "metadata": {},
   "outputs": [],
   "source": [
    "df_limpio.to_csv('../data/data_limpios.csv', index=False) # Se guarda el archivo con las transformaciones realizadas"
   ]
  }
 ],
 "metadata": {
  "kernelspec": {
   "display_name": "venv",
   "language": "python",
   "name": "python3"
  },
  "language_info": {
   "codemirror_mode": {
    "name": "ipython",
    "version": 3
   },
   "file_extension": ".py",
   "mimetype": "text/x-python",
   "name": "python",
   "nbconvert_exporter": "python",
   "pygments_lexer": "ipython3",
   "version": "3.12.4"
  }
 },
 "nbformat": 4,
 "nbformat_minor": 2
}
